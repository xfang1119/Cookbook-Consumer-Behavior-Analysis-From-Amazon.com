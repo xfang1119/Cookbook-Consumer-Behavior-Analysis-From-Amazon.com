{
 "cells": [
  {
   "cell_type": "code",
   "execution_count": 217,
   "metadata": {},
   "outputs": [
    {
     "name": "stderr",
     "output_type": "stream",
     "text": [
      "C:\\anaconda\\lib\\site-packages\\gensim\\utils.py:862: UserWarning: detected Windows; aliasing chunkize to chunkize_serial\n",
      "  warnings.warn(\"detected Windows; aliasing chunkize to chunkize_serial\")\n"
     ]
    }
   ],
   "source": [
    "import csv\n",
    "import pandas as pd\n",
    "import numpy as np\n",
    "import string\n",
    "import nltk\n",
    "from nltk.corpus import stopwords\n",
    "from collections import Counter\n",
    "from wordcloud import WordCloud\n",
    "import matplotlib.pyplot as plt\n",
    "from sklearn.preprocessing import normalize\n",
    "import seaborn as sns\n",
    "from nltk.tokenize import word_tokenize\n",
    "from scipy.spatial import distance\n",
    "from sklearn.metrics import accuracy_score\n",
    "import re \n",
    "import glob\n",
    "from gensim import corpora\n",
    "from keras.preprocessing.text import Tokenizer\n",
    "from keras.preprocessing.sequence import pad_sequences"
   ]
  },
  {
   "cell_type": "markdown",
   "metadata": {},
   "source": [
    "### 1.Sentiment analysis\n",
    "   - based on absolute proportional difference\n",
    "   - based on naive\n",
    "   \n",
    "### 2.Compare label difference and manual relabel confused reviews\n",
    "\n",
    "### 3.Run sentiment analysis on CNN based on manual labeled reviews and compare with Amazon\n"
   ]
  },
  {
   "cell_type": "code",
   "execution_count": 6,
   "metadata": {},
   "outputs": [],
   "source": [
    "file_path = '/Users/Xing Fang/Desktop/2019f/bia 660/final project/sentiment/New/*.csv'\n",
    "\n",
    "addrs = glob.glob(file_path)\n",
    "# load data from New \n",
    "for idx, addr in enumerate(addrs):\n",
    "   \n",
    "    if idx == 0:\n",
    "        review_df = pd.read_csv(addr)\n",
    "    else:\n",
    "        new_df = pd.read_csv(addr)\n",
    "        review_df = pd.concat([review_df, new_df], ignore_index=True)\n",
    "\n",
    "# load data from previous clusters\n",
    "dir_list = ['/Users/Xing Fang/Desktop/2019f/bia 660/final project/sentiment/Reviews/Cluster0','/Users/Xing Fang/Desktop/2019f/bia 660/final project/sentiment/Reviews/Cluster1','/Users/Xing Fang/Desktop/2019f/bia 660/final project/sentiment/Reviews/Cluster2']\n",
    "for folder in dir_list:\n",
    "    addrs = glob.glob(folder+'/*.csv')\n",
    "    for addr in addrs:\n",
    "        new_df = pd.read_csv(addr,encoding = 'unicode_escape')\n",
    "        review_df = pd.concat([review_df, new_df], ignore_index=True)\n",
    "del review_df['Unnamed: 0']"
   ]
  },
  {
   "cell_type": "code",
   "execution_count": 7,
   "metadata": {},
   "outputs": [],
   "source": [
    "cluster_df = pd.read_excel('/Users/Xing Fang/Desktop/2019f/bia 660/final project/sentiment/Cluster_Result.xlsx')"
   ]
  },
  {
   "cell_type": "code",
   "execution_count": 121,
   "metadata": {},
   "outputs": [],
   "source": [
    "df = pd.merge(review_df, cluster_df, left_on='book_title', right_on='title')"
   ]
  },
  {
   "cell_type": "code",
   "execution_count": 124,
   "metadata": {},
   "outputs": [],
   "source": [
    "data = pd.DataFrame(list(zip(df['review'], df['sentiment'])), columns = ['review','sentiment'])"
   ]
  },
  {
   "cell_type": "code",
   "execution_count": 125,
   "metadata": {},
   "outputs": [],
   "source": [
    "data = data.dropna(axis=0,how='any')"
   ]
  },
  {
   "cell_type": "code",
   "execution_count": 127,
   "metadata": {},
   "outputs": [],
   "source": [
    "def tokenize(text):\n",
    "    \n",
    "    tokens = []\n",
    "    text = str(text).lower()\n",
    "\n",
    "    pattern= r'[a-z]+[.''\\'-_]*[a-z]+'\n",
    "    tokensall = nltk.regexp_tokenize(text, pattern)\n",
    "\n",
    "    stop_words = stopwords.words('english')\n",
    "    \n",
    "    for token in tokensall:  \n",
    "        if token not in stop_words:\n",
    "            tokens.append(token)  \n",
    "\n",
    "    return tokens"
   ]
  },
  {
   "cell_type": "markdown",
   "metadata": {},
   "source": [
    "### 1.Sentiment analysis \n",
    "- based on Absolute Proportional Difference\n",
    "\n",
    "  * Sentiment = (P − N) / (P + N + O)\n"
   ]
  },
  {
   "cell_type": "code",
   "execution_count": 102,
   "metadata": {},
   "outputs": [],
   "source": [
    "with open(\"positive-words.txt\",'r') as f:\n",
    "        positive_word=[line.strip() for line in f]\n",
    "        \n",
    "with open(\"negative-words.txt\",'r') as f:\n",
    "    negative_word=[line.strip() for line in f]"
   ]
  },
  {
   "cell_type": "code",
   "execution_count": 163,
   "metadata": {},
   "outputs": [],
   "source": [
    "def sentiment_analysis(text, positive_words, negative_words):\n",
    "    \n",
    "    negations=[\"not\", \"no\", \"isn't\", \"wasn't\", \"aren't\", \\\n",
    "                   \"weren't\", \"don't\", \"didn't\", \"cannot\", \\\n",
    "                   \"couldn't\", \"won't\", \"neither\", \"nor\"]\n",
    "\n",
    "    tokens=tokenize(text)\n",
    "    positive_tokens=[]\n",
    "    negative_tokens=[]\n",
    "\n",
    "    positive_words=[token for token in tokens if token in positive_word]\n",
    "    negative_words=[token for token in tokens if token in negative_word]\n",
    "\n",
    "    for idx, token in enumerate(positive_words):\n",
    "        if token in positive_words:\n",
    "            if idx!=0:\n",
    "                if tokens[idx-1] not in negative_words:\n",
    "                    positive_tokens.append(token)\n",
    "                if tokens[idx-1]  in negative_words:\n",
    "                    negative_tokens.append(token)\n",
    "            else:\n",
    "                positive_tokens.append(token)\n",
    "\n",
    "    for idx, token in enumerate(negative_words):\n",
    "        if token in negative_words:\n",
    "            if idx!=0:\n",
    "                if tokens[idx-1] not in negative_words:\n",
    "                    negative_tokens.append(token)\n",
    "                if tokens[idx-1]  in negative_words:\n",
    "                    positive_tokens.append(token)\n",
    "            else:\n",
    "                negative_tokens.append(token)\n",
    "\n",
    "    if (len(positive_tokens) - len(negative_tokens))/ len(text) > 0.004:\n",
    "        sentiment = 1\n",
    "        \n",
    "    else:\n",
    "        sentiment = 0\n",
    "        \n",
    "    return sentiment\n"
   ]
  },
  {
   "cell_type": "code",
   "execution_count": 133,
   "metadata": {},
   "outputs": [],
   "source": [
    "data = list(zip(data['review'],data['sentiment']))"
   ]
  },
  {
   "cell_type": "markdown",
   "metadata": {},
   "source": [
    "#### Try different thresholds to find best one with highest accuracy"
   ]
  },
  {
   "cell_type": "code",
   "execution_count": 161,
   "metadata": {},
   "outputs": [
    {
     "name": "stdout",
     "output_type": "stream",
     "text": [
      "0.685319903003171\n"
     ]
    }
   ],
   "source": [
    "#0.0001\n",
    "score = 0\n",
    "\n",
    "for review,sentiment in data:\n",
    "        pre_sentiment=sentiment_analysis(review, positive_words, negative_words)\n",
    "        \n",
    "        if pre_sentiment == sentiment:\n",
    "            score += 1\n",
    "            \n",
    "accuracy=score/len(corr_data)\n",
    "print(accuracy)\n"
   ]
  },
  {
   "cell_type": "code",
   "execution_count": 154,
   "metadata": {},
   "outputs": [
    {
     "name": "stdout",
     "output_type": "stream",
     "text": [
      "0.6857862339115837\n"
     ]
    }
   ],
   "source": [
    "#0.001\n",
    "score = 0\n",
    "for review,sentiment in data:\n",
    "        pre_sentiment=sentiment_analysis(review, positive_words, negative_words)\n",
    "        if pre_sentiment == sentiment:\n",
    "            score += 1\n",
    "accuracy=score/len(corr_data)\n",
    "print(accuracy)"
   ]
  },
  {
   "cell_type": "code",
   "execution_count": 156,
   "metadata": {},
   "outputs": [
    {
     "name": "stdout",
     "output_type": "stream",
     "text": [
      "0.6860660324566312\n"
     ]
    }
   ],
   "source": [
    "#0.003\n",
    "score = 0\n",
    "for review,sentiment in data:\n",
    "        pre_sentiment=sentiment_analysis(review, positive_words, negative_words)\n",
    "        if pre_sentiment == sentiment:\n",
    "            score += 1\n",
    "accuracy=score/len(corr_data)\n",
    "print(accuracy)"
   ]
  },
  {
   "cell_type": "code",
   "execution_count": 164,
   "metadata": {},
   "outputs": [
    {
     "name": "stdout",
     "output_type": "stream",
     "text": [
      "0.6937138593545981\n"
     ]
    }
   ],
   "source": [
    "#0.004\n",
    "score = 0\n",
    "label = []\n",
    "for review,sentiment in data:\n",
    "        pre_sentiment=sentiment_analysis(review, positive_words, negative_words)\n",
    "        label.append(pre_sentiment)\n",
    "        if pre_sentiment == sentiment:\n",
    "            score += 1\n",
    "accuracy=score/len(corr_data)\n",
    "print(accuracy)"
   ]
  },
  {
   "cell_type": "code",
   "execution_count": 146,
   "metadata": {},
   "outputs": [
    {
     "name": "stdout",
     "output_type": "stream",
     "text": [
      "0.6878380899085992\n"
     ]
    }
   ],
   "source": [
    "#0.005\n",
    "score = 0\n",
    "for review,sentiment in data:\n",
    "        pre_sentiment=sentiment_analysis(review, positive_words, negative_words)\n",
    "        if pre_sentiment == sentiment:\n",
    "            score += 1\n",
    "accuracy=score/len(corr_data)\n",
    "print(accuracy)"
   ]
  },
  {
   "cell_type": "code",
   "execution_count": 152,
   "metadata": {},
   "outputs": [
    {
     "name": "stdout",
     "output_type": "stream",
     "text": [
      "0.6847603059130759\n"
     ]
    }
   ],
   "source": [
    "#0.006\n",
    "score = 0\n",
    "for review,sentiment in data:\n",
    "        pre_sentiment=sentiment_analysis(review, positive_words, negative_words)\n",
    "        if pre_sentiment == sentiment:\n",
    "            score += 1\n",
    "accuracy=score/len(corr_data)\n",
    "print(accuracy)"
   ]
  },
  {
   "cell_type": "code",
   "execution_count": 150,
   "metadata": {},
   "outputs": [
    {
     "name": "stdout",
     "output_type": "stream",
     "text": [
      "0.6678791270285395\n"
     ]
    }
   ],
   "source": [
    "#0.009\n",
    "score = 0\n",
    "for review,sentiment in data:\n",
    "        pre_sentiment=sentiment_analysis(review, positive_words, negative_words)\n",
    "        if pre_sentiment == sentiment:\n",
    "            score += 1\n",
    "accuracy=score/len(corr_data)\n",
    "print(accuracy)"
   ]
  },
  {
   "cell_type": "code",
   "execution_count": 148,
   "metadata": {},
   "outputs": [
    {
     "name": "stdout",
     "output_type": "stream",
     "text": [
      "0.6560343219548592\n"
     ]
    }
   ],
   "source": [
    "#0.01\n",
    "score = 0\n",
    "for review,sentiment in data:\n",
    "        pre_sentiment=sentiment_analysis(review, positive_words, negative_words)\n",
    "        if pre_sentiment == sentiment:\n",
    "            score += 1\n",
    "accuracy=score/len(corr_data)\n",
    "print(accuracy)"
   ]
  },
  {
   "cell_type": "markdown",
   "metadata": {},
   "source": [
    "#### Result: 0.004 is the best threshold with accuracy as 69.37%."
   ]
  },
  {
   "cell_type": "markdown",
   "metadata": {},
   "source": [
    "### 1.Sentiment analysis\n",
    " - based on naive"
   ]
  },
  {
   "cell_type": "code",
   "execution_count": 165,
   "metadata": {},
   "outputs": [],
   "source": [
    "def sentiment_analysis(text, positive_words, negative_words):\n",
    "    \n",
    "    negations=[\"not\", \"no\", \"isn't\", \"wasn't\", \"aren't\", \\\n",
    "                   \"weren't\", \"don't\", \"didn't\", \"cannot\", \\\n",
    "                   \"couldn't\", \"won't\", \"neither\", \"nor\"]\n",
    "\n",
    "    tokens=tokenize(text)\n",
    "    positive_tokens=[]\n",
    "    negative_tokens=[]\n",
    "\n",
    "    positive_words=[token for token in tokens if token in positive_word]\n",
    "    negative_words=[token for token in tokens if token in negative_word]\n",
    "\n",
    "    for idx, token in enumerate(positive_words):\n",
    "        if token in positive_words:\n",
    "            if idx!=0:\n",
    "                if tokens[idx-1] not in negative_words:\n",
    "                    positive_tokens.append(token)\n",
    "                if tokens[idx-1]  in negative_words:\n",
    "                    negative_tokens.append(token)\n",
    "            else:\n",
    "                positive_tokens.append(token)\n",
    "\n",
    "    for idx, token in enumerate(negative_words):\n",
    "        if token in negative_words:\n",
    "            if idx!=0:\n",
    "                if tokens[idx-1] not in negative_words:\n",
    "                    negative_tokens.append(token)\n",
    "                if tokens[idx-1]  in negative_words:\n",
    "                    positive_tokens.append(token)\n",
    "            else:\n",
    "                negative_tokens.append(token)\n",
    "\n",
    "    if len(positive_tokens)>len(negative_tokens):\n",
    "        sentiment = 1\n",
    "        \n",
    "    if len(positive_tokens)<=len(negative_tokens):\n",
    "        sentiment = 0\n",
    "        \n",
    "    return sentiment"
   ]
  },
  {
   "cell_type": "code",
   "execution_count": 166,
   "metadata": {},
   "outputs": [
    {
     "name": "stdout",
     "output_type": "stream",
     "text": [
      "0.685319903003171\n",
      "[1, 1, 1, 1, 1, 1, 1, 1, 1, 1, 1, 1, 1, 1, 1, 1, 1, 1, 1, 1, 1, 1, 1, 1, 0, 1, 1, 1, 1, 0, 0, 0, 0, 1, 1, 1, 1, 1, 0, 0, 0, 1, 1, 1, 1, 1, 1, 0, 1, 0]\n"
     ]
    }
   ],
   "source": [
    "score = 0\n",
    "label = []\n",
    "for review,sentiment in data:\n",
    "        pre_sentiment=sentiment_analysis(review, positive_words, negative_words)\n",
    "        label.append(pre_sentiment)\n",
    "        if pre_sentiment == sentiment:\n",
    "            score += 1\n",
    "accuracy=score/len(corr_data)\n",
    "print(accuracy)\n",
    "print(label[0:50])"
   ]
  },
  {
   "cell_type": "markdown",
   "metadata": {},
   "source": [
    "### 2.Compare label difference and manually relabel confused reviews\n",
    "- In this step, I compared results based on naive method with Amazon's results. And check the different labels, and manually relabel the confused reviews, remove reviews that are difficult to differentiate."
   ]
  },
  {
   "cell_type": "code",
   "execution_count": 169,
   "metadata": {},
   "outputs": [],
   "source": [
    "data = pd.DataFrame(list(zip(df['review'], df['sentiment'])), columns = ['review','sentiment'])\n",
    "data = data.dropna(axis=0,how='any')"
   ]
  },
  {
   "cell_type": "code",
   "execution_count": 171,
   "metadata": {},
   "outputs": [],
   "source": [
    "#add new colomn 'label'\n",
    "data['label'] = label"
   ]
  },
  {
   "cell_type": "code",
   "execution_count": 191,
   "metadata": {},
   "outputs": [],
   "source": [
    "#compare 'label' and 'sentiment' columns, to fing the different rows and test if 'sentiment' make sense\n",
    "data['compare'] = np.where((data['label'] == data['sentiment']), '1', '0')"
   ]
  },
  {
   "cell_type": "code",
   "execution_count": 209,
   "metadata": {},
   "outputs": [],
   "source": [
    "data.to_csv('compare.csv')"
   ]
  },
  {
   "cell_type": "markdown",
   "metadata": {},
   "source": [
    "#### By checkingh the csv, I found Amazon's sentiment tags is not so accurate, like below reviews. Some people think it's a good book, but some part of it are not so good; or receipe is good, but not fit for them. All in all, the book may not fullfill their expectations, but it is still one good book. \n",
    "#### Based on our report insights, we want to  use sentiment analysis to evaluate one book. So although those reviews are tagged as negative, they finally agree that it is a good book. Then that kind reviews should be laballed as positive which can finally improve the results of book evaluations."
   ]
  },
  {
   "cell_type": "code",
   "execution_count": null,
   "metadata": {},
   "outputs": [],
   "source": [
    "#Yet another recipe book. We have thousands of them, and this is just another one. Is it useful? Yes, of course it is, but it's nothing special in the scheme of things.\n",
    "#It's a pretty good book, they are some ingredients in it that are hard to find but other than that pretty awesome.\n",
    "#Would have been nice if there were photos.\n",
    "#Some good recipes but uses Splenda too much.\n",
    "#I like the smoothie recipes, but my husband and I didn't stick on the cleanse past 3 days. I can't drink my meals every day. He also found them to not be as tasty (not very sweet, but he's a sweet tooth) which didn't help our motivation much. I think she gives some good principles, but this cleanse was not for us. Also, I would have liked to see more scientific-based information or at least references for some of the health information she provides.\n",
    "#As a seasoned cook, I thought this would be a good resource to have to help our family avoid processed food. However, I found the recipes extremely basic for me. I felt I got better recipes from the authors website.\n",
    "#I bought this because it was super discounted. I vaguely follow the blog. Author has a sensible moderate approach to food with no crazy out there ingredients. Good basic recipes inside, easy to make, but nothing I haven't seen elsewhere or tweaked my self. I don't have kids but the school lunch ideas were probably the most useful as I often get bored with the food I pack for work. Was worth it for the price I paid.\n",
    "#there are parts I love about this book such as part one. Which talks about how to make changes and shopping for whole real food items but as far as the recipe portion I was not at all impressed. I love love love to cook and bake for my family but I could honestly have found these on Pinterest or created these myself. All in all, I gave three stars for the whole front half of the book because there was some great info there.\n",
    "#Enjoy and gave as gift however nothing new.\n",
    "#Good ideas and intention, but the recipes are a little too basic.\n",
    "#Not as I expected, but still good."
   ]
  },
  {
   "cell_type": "markdown",
   "metadata": {},
   "source": [
    "#### Below reviews are those obviously positive, but tagged as negative by Amazon."
   ]
  },
  {
   "cell_type": "code",
   "execution_count": null,
   "metadata": {},
   "outputs": [],
   "source": [
    "#Pretty good\n",
    "#Useful jar recipes of seasonal gifts for friends and family... The soups are worth the price of admission alone!\n",
    "#This book has some good tips for how to pack and package home made mixes in jars. If you're looking for creative ways to give cookies for the holidays, check out this book.\n",
    "#It was ok. Wasnt to impressed.\n",
    "#Informative and useful to understand the program. Geared mostly to suit the Western diet"
   ]
  },
  {
   "cell_type": "markdown",
   "metadata": {},
   "source": [
    "#### I manually relabel those confused or wrong labelled reviews and set it as colomn 'label'."
   ]
  },
  {
   "cell_type": "code",
   "execution_count": 211,
   "metadata": {},
   "outputs": [],
   "source": [
    "data = pd.read_csv('compare.csv',encoding = 'unicode_escape')"
   ]
  },
  {
   "cell_type": "markdown",
   "metadata": {},
   "source": [
    "### 3.Run sentiment analysis on CNN \n",
    " - set manually labelled reviews and same sentiment result reviews given by Amazon and naive as groundtruth "
   ]
  },
  {
   "cell_type": "code",
   "execution_count": 218,
   "metadata": {},
   "outputs": [],
   "source": [
    "MAX_NB_WORDS=10000\n",
    "MAX_DOC_LEN=500\n",
    "tokenizer = Tokenizer(num_words=MAX_NB_WORDS)\n",
    "tokenizer.fit_on_texts(data[\"review\"])\n",
    "sequences = tokenizer.texts_to_sequences(data[\"review\"])\n",
    "padded_sequences = pad_sequences(sequences, \\\n",
    "                                 maxlen=MAX_DOC_LEN, \\\n",
    "                                 padding='post', \\\n",
    "                                 truncating='post')"
   ]
  },
  {
   "cell_type": "code",
   "execution_count": 225,
   "metadata": {},
   "outputs": [],
   "source": [
    "from sklearn.model_selection import train_test_split\n",
    "\n",
    "X_train, X_test, y_train, y_test, senti_train, senti_test = train_test_split(\\\n",
    "                        padded_sequences, data['label'],data['sentiment'],\\\n",
    "                        test_size=0.3, random_state=1)"
   ]
  },
  {
   "cell_type": "code",
   "execution_count": 220,
   "metadata": {},
   "outputs": [
    {
     "name": "stderr",
     "output_type": "stream",
     "text": [
      "WARNING: Logging before flag parsing goes to stderr.\n",
      "W1206 04:26:04.216983 22856 deprecation_wrapper.py:119] From C:\\anaconda\\lib\\site-packages\\keras\\backend\\tensorflow_backend.py:442: The name tf.placeholder is deprecated. Please use tf.compat.v1.placeholder instead.\n",
      "\n",
      "W1206 04:26:04.272950 22856 deprecation_wrapper.py:119] From C:\\anaconda\\lib\\site-packages\\keras\\backend\\tensorflow_backend.py:3543: The name tf.random_uniform is deprecated. Please use tf.random.uniform instead.\n",
      "\n",
      "W1206 04:26:04.324954 22856 deprecation_wrapper.py:119] From C:\\anaconda\\lib\\site-packages\\keras\\backend\\tensorflow_backend.py:3386: The name tf.nn.max_pool is deprecated. Please use tf.nn.max_pool2d instead.\n",
      "\n",
      "W1206 04:26:04.334987 22856 deprecation.py:506] From C:\\anaconda\\lib\\site-packages\\keras\\backend\\tensorflow_backend.py:1205: calling reduce_prod_v1 (from tensorflow.python.ops.math_ops) with keep_dims is deprecated and will be removed in a future version.\n",
      "Instructions for updating:\n",
      "keep_dims is deprecated, use keepdims instead\n",
      "W1206 04:26:04.417950 22856 deprecation_wrapper.py:119] From C:\\anaconda\\lib\\site-packages\\keras\\backend\\tensorflow_backend.py:112: The name tf.get_default_graph is deprecated. Please use tf.compat.v1.get_default_graph instead.\n",
      "\n",
      "W1206 04:26:04.431950 22856 deprecation.py:506] From C:\\anaconda\\lib\\site-packages\\keras\\backend\\tensorflow_backend.py:2888: calling dropout (from tensorflow.python.ops.nn_ops) with keep_prob is deprecated and will be removed in a future version.\n",
      "Instructions for updating:\n",
      "Please use `rate` instead of `keep_prob`. Rate should be set to `rate = 1 - keep_prob`.\n"
     ]
    }
   ],
   "source": [
    "from keras.layers import Embedding, Dense, Conv1D, MaxPooling1D, \\\n",
    "Dropout, Activation, Input, Flatten, Concatenate\n",
    "from keras.models import Model\n",
    "\n",
    "EMBEDDING_DIM=100\n",
    "\n",
    "main_input = Input(shape=(MAX_DOC_LEN,), \\\n",
    "                   dtype='int32', name='main_input')\n",
    "\n",
    "embed_1 = Embedding(input_dim=MAX_NB_WORDS+1, \\\n",
    "                    output_dim=EMBEDDING_DIM, \\\n",
    "                    input_length=MAX_DOC_LEN,\\\n",
    "                    name='embedding')(main_input)\n",
    "\n",
    "conv1d_1= Conv1D(filters=64, kernel_size=1, \\\n",
    "                 name='conv_unigram',\\\n",
    "                 activation='relu')(embed_1)\n",
    "\n",
    "pool_1 = MaxPooling1D(MAX_DOC_LEN-1+1, \\\n",
    "                      name='pool_unigram')(conv1d_1)\n",
    "\n",
    "flat_1 = Flatten(name='flat_unigram')(pool_1)\n",
    "\n",
    "conv1d_2= Conv1D(filters=64, kernel_size=2, \\\n",
    "                 name='conv_bigram',\\\n",
    "                 activation='relu')(embed_1)\n",
    "pool_2 = MaxPooling1D(MAX_DOC_LEN-2+1, name='pool_bigram')(conv1d_2)\n",
    "flat_2 = Flatten(name='flat_bigram')(pool_2)\n",
    "\n",
    "conv1d_3= Conv1D(filters=64, kernel_size=3, \\\n",
    "                 name='conv_trigram',activation='relu')(embed_1)\n",
    "pool_3 = MaxPooling1D(MAX_DOC_LEN-3+1, name='pool_trigram')(conv1d_3)\n",
    "flat_3 = Flatten(name='flat_trigram')(pool_3)\n",
    "\n",
    "z=Concatenate(name='concate')([flat_1, flat_2, flat_3])\n",
    "\n",
    "drop_1=Dropout(rate=0.5, name='dropout')(z)\n",
    "\n",
    "dense_1 = Dense(192, activation='relu', name='dense')(drop_1)\n",
    "\n",
    "preds = Dense(1, activation='sigmoid', name='output')(dense_1)\n",
    "\n",
    "model = Model(inputs=main_input, outputs=preds)"
   ]
  },
  {
   "cell_type": "code",
   "execution_count": 221,
   "metadata": {},
   "outputs": [
    {
     "name": "stdout",
     "output_type": "stream",
     "text": [
      "____________________________________________________________________________________________________\n",
      "Layer (type)                     Output Shape          Param #     Connected to                     \n",
      "====================================================================================================\n",
      "main_input (InputLayer)          (None, 500)           0                                            \n",
      "____________________________________________________________________________________________________\n",
      "embedding (Embedding)            (None, 500, 100)      1000100     main_input[0][0]                 \n",
      "____________________________________________________________________________________________________\n",
      "conv_unigram (Conv1D)            (None, 500, 64)       6464        embedding[0][0]                  \n",
      "____________________________________________________________________________________________________\n",
      "conv_bigram (Conv1D)             (None, 499, 64)       12864       embedding[0][0]                  \n",
      "____________________________________________________________________________________________________\n",
      "conv_trigram (Conv1D)            (None, 498, 64)       19264       embedding[0][0]                  \n",
      "____________________________________________________________________________________________________\n",
      "pool_unigram (MaxPooling1D)      (None, 1, 64)         0           conv_unigram[0][0]               \n",
      "____________________________________________________________________________________________________\n",
      "pool_bigram (MaxPooling1D)       (None, 1, 64)         0           conv_bigram[0][0]                \n",
      "____________________________________________________________________________________________________\n",
      "pool_trigram (MaxPooling1D)      (None, 1, 64)         0           conv_trigram[0][0]               \n",
      "____________________________________________________________________________________________________\n",
      "flat_unigram (Flatten)           (None, 64)            0           pool_unigram[0][0]               \n",
      "____________________________________________________________________________________________________\n",
      "flat_bigram (Flatten)            (None, 64)            0           pool_bigram[0][0]                \n",
      "____________________________________________________________________________________________________\n",
      "flat_trigram (Flatten)           (None, 64)            0           pool_trigram[0][0]               \n",
      "____________________________________________________________________________________________________\n",
      "concate (Concatenate)            (None, 192)           0           flat_unigram[0][0]               \n",
      "                                                                   flat_bigram[0][0]                \n",
      "                                                                   flat_trigram[0][0]               \n",
      "____________________________________________________________________________________________________\n",
      "dropout (Dropout)                (None, 192)           0           concate[0][0]                    \n",
      "____________________________________________________________________________________________________\n",
      "dense (Dense)                    (None, 192)           37056       dropout[0][0]                    \n",
      "____________________________________________________________________________________________________\n",
      "output (Dense)                   (None, 1)             193         dense[0][0]                      \n",
      "====================================================================================================\n",
      "Total params: 1,075,941\n",
      "Trainable params: 1,075,941\n",
      "Non-trainable params: 0\n",
      "____________________________________________________________________________________________________\n"
     ]
    }
   ],
   "source": [
    "model.summary()"
   ]
  },
  {
   "cell_type": "code",
   "execution_count": 222,
   "metadata": {},
   "outputs": [
    {
     "name": "stderr",
     "output_type": "stream",
     "text": [
      "W1206 04:26:37.874612 22856 deprecation_wrapper.py:119] From C:\\anaconda\\lib\\site-packages\\keras\\optimizers.py:711: The name tf.train.Optimizer is deprecated. Please use tf.compat.v1.train.Optimizer instead.\n",
      "\n",
      "W1206 04:26:37.903646 22856 deprecation_wrapper.py:119] From C:\\anaconda\\lib\\site-packages\\keras\\backend\\tensorflow_backend.py:2819: The name tf.log is deprecated. Please use tf.math.log instead.\n",
      "\n",
      "W1206 04:26:37.911644 22856 deprecation.py:323] From C:\\anaconda\\lib\\site-packages\\tensorflow\\python\\ops\\nn_impl.py:180: add_dispatch_support.<locals>.wrapper (from tensorflow.python.ops.array_ops) is deprecated and will be removed in a future version.\n",
      "Instructions for updating:\n",
      "Use tf.where in 2.0, which has the same broadcast rule as np.where\n"
     ]
    }
   ],
   "source": [
    "model.compile(loss=\"binary_crossentropy\", \\\n",
    "              optimizer=\"adam\", \\\n",
    "              metrics=[\"accuracy\"])"
   ]
  },
  {
   "cell_type": "code",
   "execution_count": 223,
   "metadata": {},
   "outputs": [
    {
     "name": "stderr",
     "output_type": "stream",
     "text": [
      "W1206 04:26:52.973989 22856 deprecation_wrapper.py:119] From C:\\anaconda\\lib\\site-packages\\keras\\backend\\tensorflow_backend.py:899: The name tf.assign_add is deprecated. Please use tf.compat.v1.assign_add instead.\n",
      "\n",
      "W1206 04:26:52.985980 22856 deprecation.py:506] From C:\\anaconda\\lib\\site-packages\\keras\\backend\\tensorflow_backend.py:625: calling Constant.__init__ (from tensorflow.python.ops.init_ops) with dtype is deprecated and will be removed in a future version.\n",
      "Instructions for updating:\n",
      "Call initializer instance with the dtype argument instead of passing it to the constructor\n"
     ]
    },
    {
     "name": "stdout",
     "output_type": "stream",
     "text": [
      "Train on 7486 samples, validate on 3209 samples\n",
      "Epoch 1/30\n",
      "22s - loss: 0.5099 - acc: 0.7433 - val_loss: 0.3659 - val_acc: 0.8404\n",
      "Epoch 2/30\n",
      "21s - loss: 0.3075 - acc: 0.8742 - val_loss: 0.3054 - val_acc: 0.8654\n",
      "Epoch 3/30\n",
      "22s - loss: 0.2017 - acc: 0.9268 - val_loss: 0.3124 - val_acc: 0.8710\n",
      "Epoch 4/30\n",
      "20s - loss: 0.1452 - acc: 0.9455 - val_loss: 0.3411 - val_acc: 0.8697\n",
      "Epoch 5/30\n",
      "21s - loss: 0.1041 - acc: 0.9643 - val_loss: 0.3754 - val_acc: 0.8598\n",
      "Epoch 6/30\n",
      "20s - loss: 0.0667 - acc: 0.9794 - val_loss: 0.4439 - val_acc: 0.8620\n",
      "Epoch 7/30\n",
      "19s - loss: 0.0519 - acc: 0.9842 - val_loss: 0.5269 - val_acc: 0.8607\n",
      "Epoch 8/30\n",
      "23s - loss: 0.0477 - acc: 0.9869 - val_loss: 0.5481 - val_acc: 0.8610\n",
      "Epoch 9/30\n",
      "24s - loss: 0.0435 - acc: 0.9869 - val_loss: 0.6277 - val_acc: 0.8567\n",
      "Epoch 10/30\n",
      "23s - loss: 0.0354 - acc: 0.9901 - val_loss: 0.6205 - val_acc: 0.8523\n",
      "Epoch 11/30\n",
      "23s - loss: 0.0383 - acc: 0.9889 - val_loss: 0.6096 - val_acc: 0.8579\n",
      "Epoch 12/30\n",
      "23s - loss: 0.0330 - acc: 0.9896 - val_loss: 0.7021 - val_acc: 0.8504\n",
      "Epoch 13/30\n",
      "25s - loss: 0.0305 - acc: 0.9915 - val_loss: 0.6779 - val_acc: 0.8523\n",
      "Epoch 14/30\n",
      "23s - loss: 0.0241 - acc: 0.9929 - val_loss: 0.7476 - val_acc: 0.8501\n",
      "Epoch 15/30\n",
      "26s - loss: 0.0256 - acc: 0.9928 - val_loss: 0.7913 - val_acc: 0.8486\n",
      "Epoch 16/30\n",
      "22s - loss: 0.0263 - acc: 0.9932 - val_loss: 0.7681 - val_acc: 0.8535\n",
      "Epoch 17/30\n",
      "23s - loss: 0.0251 - acc: 0.9924 - val_loss: 0.7627 - val_acc: 0.8523\n",
      "Epoch 18/30\n",
      "23s - loss: 0.0245 - acc: 0.9935 - val_loss: 0.8184 - val_acc: 0.8517\n",
      "Epoch 19/30\n",
      "25s - loss: 0.0262 - acc: 0.9920 - val_loss: 0.7564 - val_acc: 0.8554\n",
      "Epoch 20/30\n",
      "23s - loss: 0.0213 - acc: 0.9939 - val_loss: 0.7769 - val_acc: 0.8520\n",
      "Epoch 21/30\n",
      "23s - loss: 0.0201 - acc: 0.9931 - val_loss: 0.8065 - val_acc: 0.8523\n",
      "Epoch 22/30\n",
      "22s - loss: 0.0179 - acc: 0.9943 - val_loss: 0.9222 - val_acc: 0.8532\n",
      "Epoch 23/30\n",
      "22s - loss: 0.0166 - acc: 0.9941 - val_loss: 0.8857 - val_acc: 0.8510\n",
      "Epoch 24/30\n",
      "22s - loss: 0.0209 - acc: 0.9936 - val_loss: 0.8445 - val_acc: 0.8492\n",
      "Epoch 25/30\n",
      "21s - loss: 0.0176 - acc: 0.9943 - val_loss: 0.9172 - val_acc: 0.8476\n",
      "Epoch 26/30\n",
      "22s - loss: 0.0200 - acc: 0.9940 - val_loss: 0.8826 - val_acc: 0.8517\n",
      "Epoch 27/30\n",
      "22s - loss: 0.0175 - acc: 0.9944 - val_loss: 0.9432 - val_acc: 0.8479\n",
      "Epoch 28/30\n",
      "22s - loss: 0.0138 - acc: 0.9951 - val_loss: 0.9706 - val_acc: 0.8454\n",
      "Epoch 29/30\n",
      "22s - loss: 0.0157 - acc: 0.9945 - val_loss: 1.0452 - val_acc: 0.8479\n",
      "Epoch 30/30\n",
      "23s - loss: 0.0174 - acc: 0.9936 - val_loss: 0.9401 - val_acc: 0.8448\n"
     ]
    }
   ],
   "source": [
    "BATCH_SIZE = 64\n",
    "NUM_EPOCHES = 30\n",
    "\n",
    "training=model.fit(X_train, y_train, \\\n",
    "                   batch_size=BATCH_SIZE, \\\n",
    "                   epochs=NUM_EPOCHES,\\\n",
    "                   validation_data=[X_test, y_test], \\\n",
    "                   verbose=2)"
   ]
  },
  {
   "cell_type": "code",
   "execution_count": 224,
   "metadata": {},
   "outputs": [
    {
     "data": {
      "image/png": "[encoded data removed]",
      "text/plain": [
       "<matplotlib.figure.Figure at 0x2ea4170b9e8>"
      ]
     },
     "metadata": {
      "needs_background": "light"
     },
     "output_type": "display_data"
    },
    {
     "data": {
      "image/png": "[encoded data removed]",
      "text/plain": [
       "<matplotlib.figure.Figure at 0x2ea466a65c0>"
      ]
     },
     "metadata": {
      "needs_background": "light"
     },
     "output_type": "display_data"
    }
   ],
   "source": [
    "acc = training.history['acc']\n",
    "val_acc = training.history['val_acc']\n",
    "loss = training.history['loss']\n",
    "val_loss = training.history['val_loss']\n",
    "\n",
    "epochs = range(len(acc))\n",
    "\n",
    "plt.plot(epochs, acc, 'b', label='Training acc')\n",
    "plt.plot(epochs, val_acc, 'r', label='Validation acc')\n",
    "plt.title('Training and validation accuracy')\n",
    "plt.legend()\n",
    "\n",
    "plt.figure()\n",
    "\n",
    "plt.plot(epochs, loss, 'b', label='Training loss')\n",
    "plt.plot(epochs, val_loss, 'r', label='Validation loss')\n",
    "plt.title('Training and validation loss')\n",
    "plt.legend()\n",
    "\n",
    "plt.show()"
   ]
  },
  {
   "cell_type": "markdown",
   "metadata": {},
   "source": [
    "#### Based on the model train on groundtruth labels, compare the results with Amazon tagged labels, see the difference."
   ]
  },
  {
   "cell_type": "code",
   "execution_count": 226,
   "metadata": {},
   "outputs": [
    {
     "name": "stdout",
     "output_type": "stream",
     "text": [
      "[[3.5762787e-07]\n",
      " [9.8335904e-01]\n",
      " [9.9999613e-01]\n",
      " [9.9987853e-01]\n",
      " [5.9007943e-01]]\n",
      "acc: 69.34%\n"
     ]
    }
   ],
   "source": [
    "pred=model.predict(X_test)\n",
    "print(pred[0:5])\n",
    "# evaluate the model\n",
    "scores = model.evaluate(X_test, senti_test, verbose=0)\n",
    "print(\"%s: %.2f%%\" % (model.metrics_names[1], scores[1]*100))"
   ]
  }
 ],
 "metadata": {
  "kernelspec": {
   "display_name": "Python 3",
   "language": "python",
   "name": "python3"
  },
  "language_info": {
   "codemirror_mode": {
    "name": "ipython",
    "version": 3
   },
   "file_extension": ".py",
   "mimetype": "text/x-python",
   "name": "python",
   "nbconvert_exporter": "python",
   "pygments_lexer": "ipython3",
   "version": "3.6.9"
  }
 },
 "nbformat": 4,
 "nbformat_minor": 2
}
